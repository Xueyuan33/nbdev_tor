{
 "cells": [
  {
   "cell_type": "code",
   "execution_count": null,
   "id": "f094bdd7",
   "metadata": {},
   "outputs": [],
   "source": [
    "from nbdev_tor import *"
   ]
  }
 ],
 "metadata": {
  "kernelspec": {
   "display_name": "python3",
   "language": "python",
   "name": "python3"
  }
 },
 "nbformat": 4,
 "nbformat_minor": 5
}
